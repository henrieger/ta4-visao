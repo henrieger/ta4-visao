{
 "cells": [
  {
   "cell_type": "markdown",
   "id": "3e52e515-ef1c-4b4b-ac39-8b6b016d8cc1",
   "metadata": {},
   "source": [
    "# Classificadores sobre o conjunto de dados 'Iris'\n",
    "\n",
    "**Visão Computacional e Percepção - TA4**\n",
    "\n",
    "**Henrique Luiz Rieger - GRR20190357**\n",
    "\n",
    "O notebook original e o código-fonte deste relatório encontram-se [nesse repositório](https://github.com/henrieger/ta4-visao).\n",
    "\n",
    "## Introdução\n",
    "\n",
    "Este trabalho visa mostrar uma aplicação básica de classificadores, como *k*NN e redes neurais, sobre um conjunto de dados bem conhecido. O *dataset* testado foi o [Iris](https://archive.ics.uci.edu/ml/datasets/iris), comumente utilizado no ensino de Inteligência Artificial para reconhecimento de padrões, contendo informações sobre as dimensões de pétalas e sépalas de flores do gênero *Iris*. Além da simples aplicação dos classificadores, foram testadas técnicas de redução de dimensionalidade. A biblioteca usada para todos os modelos foi a [Scikit Learn](https://scikit-learn.org/), enquanto a biblioteca [Pandas](https://pandas.pydata.org/) foi usada para gerenciar os dados e a [MatPlotLib](https://matplotlib.org/) para gerar os gráficos.\n",
    "\n",
    "## Análise do *dataset*\n",
    "\n",
    "Primeiramente, os dados são extraídos do arquivo `iris.data` com a ajuda da biblioteca Pandas. As primeiras cinco linhas do conjunto foram exibidas para checagem."
   ]
  },
  {
   "cell_type": "code",
   "execution_count": 1,
   "id": "4e427d53-becd-468c-957e-7aafdd518ad8",
   "metadata": {},
   "outputs": [
    {
     "data": {
      "text/html": [
       "<div>\n",
       "<style scoped>\n",
       "    .dataframe tbody tr th:only-of-type {\n",
       "        vertical-align: middle;\n",
       "    }\n",
       "\n",
       "    .dataframe tbody tr th {\n",
       "        vertical-align: top;\n",
       "    }\n",
       "\n",
       "    .dataframe thead th {\n",
       "        text-align: right;\n",
       "    }\n",
       "</style>\n",
       "<table border=\"1\" class=\"dataframe\">\n",
       "  <thead>\n",
       "    <tr style=\"text-align: right;\">\n",
       "      <th></th>\n",
       "      <th>sepal_length</th>\n",
       "      <th>sepal_width</th>\n",
       "      <th>petal_length</th>\n",
       "      <th>petal_width</th>\n",
       "      <th>class</th>\n",
       "    </tr>\n",
       "  </thead>\n",
       "  <tbody>\n",
       "    <tr>\n",
       "      <th>0</th>\n",
       "      <td>5.1</td>\n",
       "      <td>3.5</td>\n",
       "      <td>1.4</td>\n",
       "      <td>0.2</td>\n",
       "      <td>Iris-setosa</td>\n",
       "    </tr>\n",
       "    <tr>\n",
       "      <th>1</th>\n",
       "      <td>4.9</td>\n",
       "      <td>3.0</td>\n",
       "      <td>1.4</td>\n",
       "      <td>0.2</td>\n",
       "      <td>Iris-setosa</td>\n",
       "    </tr>\n",
       "    <tr>\n",
       "      <th>2</th>\n",
       "      <td>4.7</td>\n",
       "      <td>3.2</td>\n",
       "      <td>1.3</td>\n",
       "      <td>0.2</td>\n",
       "      <td>Iris-setosa</td>\n",
       "    </tr>\n",
       "    <tr>\n",
       "      <th>3</th>\n",
       "      <td>4.6</td>\n",
       "      <td>3.1</td>\n",
       "      <td>1.5</td>\n",
       "      <td>0.2</td>\n",
       "      <td>Iris-setosa</td>\n",
       "    </tr>\n",
       "    <tr>\n",
       "      <th>4</th>\n",
       "      <td>5.0</td>\n",
       "      <td>3.6</td>\n",
       "      <td>1.4</td>\n",
       "      <td>0.2</td>\n",
       "      <td>Iris-setosa</td>\n",
       "    </tr>\n",
       "  </tbody>\n",
       "</table>\n",
       "</div>"
      ],
      "text/plain": [
       "   sepal_length  sepal_width  petal_length  petal_width        class\n",
       "0           5.1          3.5           1.4          0.2  Iris-setosa\n",
       "1           4.9          3.0           1.4          0.2  Iris-setosa\n",
       "2           4.7          3.2           1.3          0.2  Iris-setosa\n",
       "3           4.6          3.1           1.5          0.2  Iris-setosa\n",
       "4           5.0          3.6           1.4          0.2  Iris-setosa"
      ]
     },
     "execution_count": 1,
     "metadata": {},
     "output_type": "execute_result"
    }
   ],
   "source": [
    "import pandas as pd\n",
    "\n",
    "data = pd.read_csv(\"iris.data\", names=['sepal_length', 'sepal_width', 'petal_length', 'petal_width', 'class'], index_col=False)\n",
    "data.head()"
   ]
  },
  {
   "cell_type": "markdown",
   "id": "cf30eb37-3e9e-42eb-8a1e-8d54fe4add70",
   "metadata": {},
   "source": [
    "Depois, foram definidos algumas estatísticas de resumo para análise dos dados. As métricas utilizadas foram:\n",
    "- Valor mínimo (`min`);\n",
    "- Valor máximo (`max`);\n",
    "- Média (`mean`);\n",
    "- Desvio padrão (`std`);\n",
    "- Mediana (`median`)."
   ]
  },
  {
   "cell_type": "code",
   "execution_count": 2,
   "id": "3e9f38fa-8a2f-4176-a777-255d45b8b31c",
   "metadata": {},
   "outputs": [],
   "source": [
    "statistics = ['min', 'max', 'mean', 'std', 'median']\n",
    "aggregate = {\n",
    "    'sepal_length': statistics,\n",
    "    'sepal_width': statistics,\n",
    "    'petal_length': statistics,\n",
    "    'petal_width': statistics \n",
    "}"
   ]
  },
  {
   "cell_type": "markdown",
   "id": "a9085657-6013-4ce6-aa8a-2c7eb9fd2153",
   "metadata": {},
   "source": [
    "Primeiramente, cada estatística foi aplicada ao conjunto de dados inteiro, a partir da função `pd.DataFrame.agg`:"
   ]
  },
  {
   "cell_type": "code",
   "execution_count": 3,
   "id": "05993dc4-c3f8-48db-a8c9-b5720384d50a",
   "metadata": {
    "scrolled": true
   },
   "outputs": [
    {
     "data": {
      "text/html": [
       "<div>\n",
       "<style scoped>\n",
       "    .dataframe tbody tr th:only-of-type {\n",
       "        vertical-align: middle;\n",
       "    }\n",
       "\n",
       "    .dataframe tbody tr th {\n",
       "        vertical-align: top;\n",
       "    }\n",
       "\n",
       "    .dataframe thead th {\n",
       "        text-align: right;\n",
       "    }\n",
       "</style>\n",
       "<table border=\"1\" class=\"dataframe\">\n",
       "  <thead>\n",
       "    <tr style=\"text-align: right;\">\n",
       "      <th></th>\n",
       "      <th>sepal_length</th>\n",
       "      <th>sepal_width</th>\n",
       "      <th>petal_length</th>\n",
       "      <th>petal_width</th>\n",
       "    </tr>\n",
       "  </thead>\n",
       "  <tbody>\n",
       "    <tr>\n",
       "      <th>min</th>\n",
       "      <td>4.300000</td>\n",
       "      <td>2.000000</td>\n",
       "      <td>1.000000</td>\n",
       "      <td>0.100000</td>\n",
       "    </tr>\n",
       "    <tr>\n",
       "      <th>max</th>\n",
       "      <td>7.900000</td>\n",
       "      <td>4.400000</td>\n",
       "      <td>6.900000</td>\n",
       "      <td>2.500000</td>\n",
       "    </tr>\n",
       "    <tr>\n",
       "      <th>mean</th>\n",
       "      <td>5.843333</td>\n",
       "      <td>3.054000</td>\n",
       "      <td>3.758667</td>\n",
       "      <td>1.198667</td>\n",
       "    </tr>\n",
       "    <tr>\n",
       "      <th>std</th>\n",
       "      <td>0.828066</td>\n",
       "      <td>0.433594</td>\n",
       "      <td>1.764420</td>\n",
       "      <td>0.763161</td>\n",
       "    </tr>\n",
       "    <tr>\n",
       "      <th>median</th>\n",
       "      <td>5.800000</td>\n",
       "      <td>3.000000</td>\n",
       "      <td>4.350000</td>\n",
       "      <td>1.300000</td>\n",
       "    </tr>\n",
       "  </tbody>\n",
       "</table>\n",
       "</div>"
      ],
      "text/plain": [
       "        sepal_length  sepal_width  petal_length  petal_width\n",
       "min         4.300000     2.000000      1.000000     0.100000\n",
       "max         7.900000     4.400000      6.900000     2.500000\n",
       "mean        5.843333     3.054000      3.758667     1.198667\n",
       "std         0.828066     0.433594      1.764420     0.763161\n",
       "median      5.800000     3.000000      4.350000     1.300000"
      ]
     },
     "execution_count": 3,
     "metadata": {},
     "output_type": "execute_result"
    }
   ],
   "source": [
    "data.agg(aggregate)"
   ]
  },
  {
   "cell_type": "markdown",
   "id": "cbfef8b3-27d4-497b-be46-8c22976e8b1d",
   "metadata": {},
   "source": [
    "Então, foram feitas as análises para cada classe de flor a partir da função `pd.DataFrame.groupby`:"
   ]
  },
  {
   "cell_type": "code",
   "execution_count": 4,
   "id": "ab82c8d9-bf54-4f52-9414-d953f865d3db",
   "metadata": {},
   "outputs": [
    {
     "data": {
      "text/html": [
       "<div>\n",
       "<style scoped>\n",
       "    .dataframe tbody tr th:only-of-type {\n",
       "        vertical-align: middle;\n",
       "    }\n",
       "\n",
       "    .dataframe tbody tr th {\n",
       "        vertical-align: top;\n",
       "    }\n",
       "\n",
       "    .dataframe thead tr th {\n",
       "        text-align: left;\n",
       "    }\n",
       "\n",
       "    .dataframe thead tr:last-of-type th {\n",
       "        text-align: right;\n",
       "    }\n",
       "</style>\n",
       "<table border=\"1\" class=\"dataframe\">\n",
       "  <thead>\n",
       "    <tr>\n",
       "      <th></th>\n",
       "      <th colspan=\"5\" halign=\"left\">sepal_length</th>\n",
       "      <th colspan=\"5\" halign=\"left\">sepal_width</th>\n",
       "      <th colspan=\"5\" halign=\"left\">petal_length</th>\n",
       "      <th colspan=\"5\" halign=\"left\">petal_width</th>\n",
       "    </tr>\n",
       "    <tr>\n",
       "      <th></th>\n",
       "      <th>min</th>\n",
       "      <th>max</th>\n",
       "      <th>mean</th>\n",
       "      <th>std</th>\n",
       "      <th>median</th>\n",
       "      <th>min</th>\n",
       "      <th>max</th>\n",
       "      <th>mean</th>\n",
       "      <th>std</th>\n",
       "      <th>median</th>\n",
       "      <th>min</th>\n",
       "      <th>max</th>\n",
       "      <th>mean</th>\n",
       "      <th>std</th>\n",
       "      <th>median</th>\n",
       "      <th>min</th>\n",
       "      <th>max</th>\n",
       "      <th>mean</th>\n",
       "      <th>std</th>\n",
       "      <th>median</th>\n",
       "    </tr>\n",
       "    <tr>\n",
       "      <th>class</th>\n",
       "      <th></th>\n",
       "      <th></th>\n",
       "      <th></th>\n",
       "      <th></th>\n",
       "      <th></th>\n",
       "      <th></th>\n",
       "      <th></th>\n",
       "      <th></th>\n",
       "      <th></th>\n",
       "      <th></th>\n",
       "      <th></th>\n",
       "      <th></th>\n",
       "      <th></th>\n",
       "      <th></th>\n",
       "      <th></th>\n",
       "      <th></th>\n",
       "      <th></th>\n",
       "      <th></th>\n",
       "      <th></th>\n",
       "      <th></th>\n",
       "    </tr>\n",
       "  </thead>\n",
       "  <tbody>\n",
       "    <tr>\n",
       "      <th>Iris-setosa</th>\n",
       "      <td>4.3</td>\n",
       "      <td>5.8</td>\n",
       "      <td>5.006</td>\n",
       "      <td>0.352490</td>\n",
       "      <td>5.0</td>\n",
       "      <td>2.3</td>\n",
       "      <td>4.4</td>\n",
       "      <td>3.418</td>\n",
       "      <td>0.381024</td>\n",
       "      <td>3.4</td>\n",
       "      <td>1.0</td>\n",
       "      <td>1.9</td>\n",
       "      <td>1.464</td>\n",
       "      <td>0.173511</td>\n",
       "      <td>1.50</td>\n",
       "      <td>0.1</td>\n",
       "      <td>0.6</td>\n",
       "      <td>0.244</td>\n",
       "      <td>0.107210</td>\n",
       "      <td>0.2</td>\n",
       "    </tr>\n",
       "    <tr>\n",
       "      <th>Iris-versicolor</th>\n",
       "      <td>4.9</td>\n",
       "      <td>7.0</td>\n",
       "      <td>5.936</td>\n",
       "      <td>0.516171</td>\n",
       "      <td>5.9</td>\n",
       "      <td>2.0</td>\n",
       "      <td>3.4</td>\n",
       "      <td>2.770</td>\n",
       "      <td>0.313798</td>\n",
       "      <td>2.8</td>\n",
       "      <td>3.0</td>\n",
       "      <td>5.1</td>\n",
       "      <td>4.260</td>\n",
       "      <td>0.469911</td>\n",
       "      <td>4.35</td>\n",
       "      <td>1.0</td>\n",
       "      <td>1.8</td>\n",
       "      <td>1.326</td>\n",
       "      <td>0.197753</td>\n",
       "      <td>1.3</td>\n",
       "    </tr>\n",
       "    <tr>\n",
       "      <th>Iris-virginica</th>\n",
       "      <td>4.9</td>\n",
       "      <td>7.9</td>\n",
       "      <td>6.588</td>\n",
       "      <td>0.635880</td>\n",
       "      <td>6.5</td>\n",
       "      <td>2.2</td>\n",
       "      <td>3.8</td>\n",
       "      <td>2.974</td>\n",
       "      <td>0.322497</td>\n",
       "      <td>3.0</td>\n",
       "      <td>4.5</td>\n",
       "      <td>6.9</td>\n",
       "      <td>5.552</td>\n",
       "      <td>0.551895</td>\n",
       "      <td>5.55</td>\n",
       "      <td>1.4</td>\n",
       "      <td>2.5</td>\n",
       "      <td>2.026</td>\n",
       "      <td>0.274650</td>\n",
       "      <td>2.0</td>\n",
       "    </tr>\n",
       "  </tbody>\n",
       "</table>\n",
       "</div>"
      ],
      "text/plain": [
       "                sepal_length                              sepal_width       \\\n",
       "                         min  max   mean       std median         min  max   \n",
       "class                                                                        \n",
       "Iris-setosa              4.3  5.8  5.006  0.352490    5.0         2.3  4.4   \n",
       "Iris-versicolor          4.9  7.0  5.936  0.516171    5.9         2.0  3.4   \n",
       "Iris-virginica           4.9  7.9  6.588  0.635880    6.5         2.2  3.8   \n",
       "\n",
       "                                        petal_length                        \\\n",
       "                  mean       std median          min  max   mean       std   \n",
       "class                                                                        \n",
       "Iris-setosa      3.418  0.381024    3.4          1.0  1.9  1.464  0.173511   \n",
       "Iris-versicolor  2.770  0.313798    2.8          3.0  5.1  4.260  0.469911   \n",
       "Iris-virginica   2.974  0.322497    3.0          4.5  6.9  5.552  0.551895   \n",
       "\n",
       "                       petal_width                               \n",
       "                median         min  max   mean       std median  \n",
       "class                                                            \n",
       "Iris-setosa       1.50         0.1  0.6  0.244  0.107210    0.2  \n",
       "Iris-versicolor   4.35         1.0  1.8  1.326  0.197753    1.3  \n",
       "Iris-virginica    5.55         1.4  2.5  2.026  0.274650    2.0  "
      ]
     },
     "execution_count": 4,
     "metadata": {},
     "output_type": "execute_result"
    }
   ],
   "source": [
    "data.groupby('class').agg(aggregate)"
   ]
  },
  {
   "cell_type": "markdown",
   "id": "3f54a18f-24e7-4fa6-911b-e5f7d1db7e22",
   "metadata": {},
   "source": [
    "A partir desses dados, é possível observar que as dimensões das pétalas (largura e comprimento) são bastante distintas entre as diferentes espécies, o que será usado posteriormente na separação das classes. \n",
    "\n",
    "Além das estatísticas acima definidas, também foi analisada a moda do conjunto."
   ]
  },
  {
   "cell_type": "code",
   "execution_count": 5,
   "id": "3a410c56-3bee-4b7f-9181-426e284c1038",
   "metadata": {},
   "outputs": [],
   "source": [
    "variables = ['sepal_length', 'sepal_width', 'petal_length', 'petal_width']"
   ]
  },
  {
   "cell_type": "code",
   "execution_count": 6,
   "id": "68ff24d6-9af3-4eb7-9021-c1308dfb1d5e",
   "metadata": {},
   "outputs": [
    {
     "data": {
      "text/html": [
       "<div>\n",
       "<style scoped>\n",
       "    .dataframe tbody tr th:only-of-type {\n",
       "        vertical-align: middle;\n",
       "    }\n",
       "\n",
       "    .dataframe tbody tr th {\n",
       "        vertical-align: top;\n",
       "    }\n",
       "\n",
       "    .dataframe thead th {\n",
       "        text-align: right;\n",
       "    }\n",
       "</style>\n",
       "<table border=\"1\" class=\"dataframe\">\n",
       "  <thead>\n",
       "    <tr style=\"text-align: right;\">\n",
       "      <th></th>\n",
       "      <th>sepal_length</th>\n",
       "      <th>sepal_width</th>\n",
       "      <th>petal_length</th>\n",
       "      <th>petal_width</th>\n",
       "    </tr>\n",
       "  </thead>\n",
       "  <tbody>\n",
       "    <tr>\n",
       "      <th>0</th>\n",
       "      <td>5.0</td>\n",
       "      <td>3.0</td>\n",
       "      <td>1.5</td>\n",
       "      <td>0.2</td>\n",
       "    </tr>\n",
       "  </tbody>\n",
       "</table>\n",
       "</div>"
      ],
      "text/plain": [
       "   sepal_length  sepal_width  petal_length  petal_width\n",
       "0           5.0          3.0           1.5          0.2"
      ]
     },
     "execution_count": 6,
     "metadata": {},
     "output_type": "execute_result"
    }
   ],
   "source": [
    "data[variables].mode()"
   ]
  },
  {
   "cell_type": "markdown",
   "id": "51b36ae1-c2d3-4892-b00b-1d7bb99d417d",
   "metadata": {},
   "source": [
    "Também é possível obter as modas para cada classe:"
   ]
  },
  {
   "cell_type": "code",
   "execution_count": 7,
   "id": "7248950e-7a84-499c-8edb-0baf8cd02136",
   "metadata": {},
   "outputs": [
    {
     "name": "stdout",
     "output_type": "stream",
     "text": [
      "sepal_length\n",
      "class             \n",
      "Iris-setosa      0    5.0\n",
      "                 1    5.1\n",
      "Iris-versicolor  0    5.5\n",
      "                 1    5.6\n",
      "                 2    5.7\n",
      "Iris-virginica   0    6.3\n",
      "Name: sepal_length, dtype: float64\n",
      "\n",
      "sepal_width\n",
      "class             \n",
      "Iris-setosa      0    3.4\n",
      "Iris-versicolor  0    3.0\n",
      "Iris-virginica   0    3.0\n",
      "Name: sepal_width, dtype: float64\n",
      "\n",
      "petal_length\n",
      "class             \n",
      "Iris-setosa      0    1.5\n",
      "Iris-versicolor  0    4.5\n",
      "Iris-virginica   0    5.1\n",
      "Name: petal_length, dtype: float64\n",
      "\n",
      "petal_width\n",
      "class             \n",
      "Iris-setosa      0    0.2\n",
      "Iris-versicolor  0    1.3\n",
      "Iris-virginica   0    1.8\n",
      "Name: petal_width, dtype: float64\n",
      "\n"
     ]
    }
   ],
   "source": [
    "for v in variables:\n",
    "    print(v)\n",
    "    print(data.groupby('class')[v].apply(pd.Series.mode))\n",
    "    print()"
   ]
  },
  {
   "cell_type": "markdown",
   "id": "7f457870-cc97-4188-b55b-3375086cd781",
   "metadata": {},
   "source": [
    "Por fim, foram conferidas as frequências absolutas de cada classe, constatando que há uma igual distribuição entre todas."
   ]
  },
  {
   "cell_type": "code",
   "execution_count": 8,
   "id": "a1ba3d19-7a3e-4d59-b242-2bb35bda9472",
   "metadata": {},
   "outputs": [
    {
     "data": {
      "text/plain": [
       "class\n",
       "Iris-setosa        50\n",
       "Iris-versicolor    50\n",
       "Iris-virginica     50\n",
       "Name: count, dtype: int64"
      ]
     },
     "execution_count": 8,
     "metadata": {},
     "output_type": "execute_result"
    }
   ],
   "source": [
    "data['class'].value_counts()"
   ]
  },
  {
   "cell_type": "markdown",
   "id": "4c2f373e-b63b-4436-9232-3599390984cf",
   "metadata": {},
   "source": [
    "Podemos fazer uma visualização simples, em duas dimensões, mostrando os dados de comprimento e largura para pétalas e sépalas."
   ]
  },
  {
   "cell_type": "code",
   "execution_count": 9,
   "id": "b696f264-e091-4db1-b056-e826a6a0074f",
   "metadata": {
    "scrolled": true
   },
   "outputs": [
    {
     "data": {
      "image/png": "[encoded data removed]",
      "text/plain": [
       "<Figure size 1600x800 with 2 Axes>"
      ]
     },
     "metadata": {},
     "output_type": "display_data"
    }
   ],
   "source": [
    "import matplotlib.pyplot as plt\n",
    "import numpy as np\n",
    "\n",
    "labels = list(data['class'].drop_duplicates())\n",
    "classes = [0 if d == labels[0] else 1 if d == labels[1] else 2 for d in data['class']]\n",
    "\n",
    "fig = plt.figure(figsize=(16,8))\n",
    "\n",
    "ax = plt.subplot(121)\n",
    "plt.title('Relation of Petal dimensions')\n",
    "plt.xlabel('Petal length (cm)'), plt.ylabel('Petal width (cm)')\n",
    "scatter = ax.scatter(data['petal_length'], data['petal_width'], c=classes)\n",
    "\n",
    "ax = plt.subplot(122)\n",
    "plt.title('Relation of Sepal dimensions')\n",
    "plt.xlabel('Sepal length (cm)'), plt.ylabel('Sepal width (cm)')\n",
    "scatter = ax.scatter(data['sepal_length'], data['sepal_width'], c=classes)"
   ]
  },
  {
   "cell_type": "markdown",
   "id": "d249fdaa-32ca-4dd3-b6de-d9b16af96ebe",
   "metadata": {},
   "source": [
    "Novamente, é visível como as dimensões das pétalas conseguem agrupar as classes.\n",
    "\n",
    "## Treinando os modelos\n",
    "\n",
    "Utilizando a biblioteca Scikit Learn, podemos criar alguns modelos de aprendizado de máquina para reconhecer as diferentes espécies do gênero Iris. Abaixo estão algumas configurações da biblioteca usadas nesses experimentos:"
   ]
  },
  {
   "cell_type": "code",
   "execution_count": 10,
   "id": "b190edf2-8a5e-4932-9fc8-3b51d3a1c230",
   "metadata": {},
   "outputs": [],
   "source": [
    "from sklearn.model_selection import train_test_split\n",
    "from sklearn.neural_network import MLPClassifier\n",
    "from sklearn.neighbors import KNeighborsClassifier\n",
    "from sklearn.decomposition import PCA\n",
    "\n",
    "import ipywidgets as widgets\n",
    "from ipywidgets import interactive, fixed, IntSlider\n",
    "\n",
    "knn_slider = IntSlider(value=3, min=1, max=8, step=1)\n",
    "iter_slider = IntSlider(value=300, min=100, max=2000, step=100)\n",
    "hls_slider = IntSlider(value=100, min=50, max=200, step=25)\n",
    "\n",
    "def new_knn(X_train, y_train, X_test, y_test, n_neighbors: int):\n",
    "    knn = KNeighborsClassifier(n_neighbors=n_neighbors).fit(X_train, y_train)\n",
    "    score = knn.score(X_test, y_test)\n",
    "    print('Score =', score)\n",
    "\n",
    "def new_mlp(X_train, y_train, X_test, y_test, random_state: int, solver: str, max_iter=iter_slider, hidden_layer_sizes=fixed(100)):\n",
    "    mlp = MLPClassifier(random_state=random_state,\n",
    "                         solver=solver,\n",
    "                         max_iter=max_iter,\n",
    "                         hidden_layer_sizes=hidden_layer_sizes\n",
    "                       ).fit(X_train, y_train)\n",
    "    score = mlp.score(X_test, y_test)\n",
    "    print('Score =', score)\n",
    "\n",
    "solvers = ['lbfgs', 'sgd', 'adam']"
   ]
  },
  {
   "cell_type": "markdown",
   "id": "cde0b64d-f330-4554-b219-991bceb90ffd",
   "metadata": {},
   "source": [
    "Agora, podemos fazer a divisão dos dados a partir do DataFrame obtido na seção anterior. O conjunto foi separado de forma aleatória, reservando 80% das entradas para treinamento e 20% para testes."
   ]
  },
  {
   "cell_type": "code",
   "execution_count": 11,
   "id": "53df65b6-95a3-481a-87f6-e7a6f78a267a",
   "metadata": {},
   "outputs": [],
   "source": [
    "(X, y) = (data[variables], data['class'])\n",
    "\n",
    "X_train, X_test, y_train, y_test = train_test_split(X, y, test_size=0.2, random_state=1)"
   ]
  },
  {
   "cell_type": "markdown",
   "id": "7b7eb3f1-f897-4c28-afe9-64d129e90c89",
   "metadata": {},
   "source": [
    "Primeiramente, testamos um classificador *k*NN (*k-nearest neighbors*). Para qualquer valor de *k*, podemos ver que a classificação dos dados de teste é perfeita."
   ]
  },
  {
   "cell_type": "code",
   "execution_count": 12,
   "id": "b694cae6-3eb7-47e8-9e87-579610ee11f9",
   "metadata": {},
   "outputs": [
    {
     "data": {
      "application/vnd.jupyter.widget-view+json": {
       "model_id": "45038471d2fe43efa2fb8ba1388803f7",
       "version_major": 2,
       "version_minor": 0
      },
      "text/plain": [
       "interactive(children=(IntSlider(value=3, description='n_neighbors', max=8, min=1), Output()), _dom_classes=('w…"
      ]
     },
     "execution_count": 12,
     "metadata": {},
     "output_type": "execute_result"
    }
   ],
   "source": [
    "interactive(\n",
    "    new_knn,\n",
    "    X_train=fixed(X_train), y_train=fixed(y_train),\n",
    "    X_test=fixed(X_test), y_test=fixed(y_test),\n",
    "    n_neighbors=knn_slider\n",
    ")"
   ]
  },
  {
   "cell_type": "markdown",
   "id": "72e83970-4f07-4237-a30a-1f0dc7922beb",
   "metadata": {},
   "source": [
    "Vamos então testar um clássico *Multi-layer Perceptron*, ou MLP. Os principais parâmetros podem ser alterados para testes no exemplo abaixo. Observe que apenas o resolvedor `sgd` não consegue obter um *score* perfeito."
   ]
  },
  {
   "cell_type": "code",
   "execution_count": 13,
   "id": "18416be4-b337-42e0-a343-aaf63b176f96",
   "metadata": {},
   "outputs": [
    {
     "data": {
      "application/vnd.jupyter.widget-view+json": {
       "model_id": "27c1afd62da844adaf25c73fc155dbed",
       "version_major": 2,
       "version_minor": 0
      },
      "text/plain": [
       "interactive(children=(Dropdown(description='solver', options=('lbfgs', 'sgd', 'adam'), value='lbfgs'), IntSlid…"
      ]
     },
     "execution_count": 13,
     "metadata": {},
     "output_type": "execute_result"
    }
   ],
   "source": [
    "interactive(\n",
    "    new_mlp,\n",
    "    X_train=fixed(X_train), y_train=fixed(y_train),\n",
    "    X_test=fixed(X_test), y_test=fixed(y_test),\n",
    "    random_state=fixed(1), solver=solvers\n",
    ")"
   ]
  },
  {
   "cell_type": "markdown",
   "id": "dac896be-df5e-496d-9869-1df0a5d6862b",
   "metadata": {},
   "source": [
    "## Reduzindo as dimensões do problema\n",
    "\n",
    "Agora, podemos tentar aplicar uma redução de dimensionalidade, de forma a tentar condensar os dados de todas as medidas em apenas duas dimensões. Isso deve ser possível já que as medidas das pétalas parecem fornecer informação suficiente.\n",
    "\n",
    "Primeiramente, no entanto, será utilizada uma técnica \"automatizada\" conhecida como *Principal Component Analysis*, ou PCA. Esta técnica tenta preservar as distâncias entre os pontos do conjunto de dados ao mesmo tempo que reduz suas dimensões. [Este link](https://builtin.com/data-science/step-step-explanation-principal-component-analysis) contém uma explicação mais completa sobre o funcionamento do método.\n",
    "\n",
    "Abaixo, podemos ver como os pontos ficam distribuídos ao aplicar o PCA sobre os dados para duas dimensões."
   ]
  },
  {
   "cell_type": "code",
   "execution_count": 14,
   "id": "37182079-21af-47a0-a60c-d975794f9cc2",
   "metadata": {},
   "outputs": [
    {
     "data": {
      "image/png": "[encoded data removed]",
      "text/plain": [
       "<Figure size 640x480 with 1 Axes>"
      ]
     },
     "metadata": {},
     "output_type": "display_data"
    }
   ],
   "source": [
    "pca = PCA(n_components=2)\n",
    "reduced_data = pca.fit_transform(X)\n",
    "\n",
    "rx = [r[0] for r in reduced_data]\n",
    "rz = [r[1] for r in reduced_data]\n",
    "\n",
    "fig, ax = plt.subplots()\n",
    "plt.title('Data with PCA dimensionality reduction')\n",
    "scatter = ax.scatter(rx, rz, c=classes, label=labels)"
   ]
  },
  {
   "cell_type": "markdown",
   "id": "1f816850-c42d-40d6-99a0-059e96d66727",
   "metadata": {},
   "source": [
    "Ainda é possível observar uma boa separação entre as classes.\n",
    "\n",
    "Novamente, vamos treinar o *k*NN para o novo conjunto com dimensões reduzidas."
   ]
  },
  {
   "cell_type": "code",
   "execution_count": 15,
   "id": "a6890d2e-491e-4aec-bf5b-88923cf98a29",
   "metadata": {},
   "outputs": [],
   "source": [
    "rX_train, rX_test, ry_train, ry_test = train_test_split(reduced_data, y, test_size=0.2, random_state=1)"
   ]
  },
  {
   "cell_type": "code",
   "execution_count": 16,
   "id": "017aed7f-5955-47f5-ae1d-b9030b913a72",
   "metadata": {},
   "outputs": [
    {
     "data": {
      "application/vnd.jupyter.widget-view+json": {
       "model_id": "cf49a35f00774a31bc4f8036065fb7a3",
       "version_major": 2,
       "version_minor": 0
      },
      "text/plain": [
       "interactive(children=(IntSlider(value=3, description='n_neighbors', max=8, min=1), Output()), _dom_classes=('w…"
      ]
     },
     "execution_count": 16,
     "metadata": {},
     "output_type": "execute_result"
    }
   ],
   "source": [
    "interactive(\n",
    "    new_knn,\n",
    "    X_train=fixed(rX_train), y_train=fixed(ry_train),\n",
    "    X_test=fixed(rX_test), y_test=fixed(ry_test),\n",
    "    n_neighbors=knn_slider\n",
    ")"
   ]
  },
  {
   "cell_type": "markdown",
   "id": "684d20e3-a215-4f7f-b454-98a0e97c4b6a",
   "metadata": {},
   "source": [
    "Com o *k*NN, a redução nas dimensões continua fornecendo um *score* perfeito.\n",
    "\n",
    "Vamos testar também para o MLP."
   ]
  },
  {
   "cell_type": "code",
   "execution_count": 17,
   "id": "c3330f91-39a6-4aa6-aab1-5f26bfab50a1",
   "metadata": {},
   "outputs": [
    {
     "data": {
      "application/vnd.jupyter.widget-view+json": {
       "model_id": "81b875f740d9483d854626cc9dccc841",
       "version_major": 2,
       "version_minor": 0
      },
      "text/plain": [
       "interactive(children=(Dropdown(description='solver', options=('lbfgs', 'sgd', 'adam'), value='lbfgs'), IntSlid…"
      ]
     },
     "execution_count": 17,
     "metadata": {},
     "output_type": "execute_result"
    }
   ],
   "source": [
    "interactive(\n",
    "    new_mlp,\n",
    "    X_train=fixed(rX_train), y_train=fixed(ry_train),\n",
    "    X_test=fixed(rX_test), y_test=fixed(ry_test),\n",
    "    random_state=fixed(1), solver=solvers\n",
    ")"
   ]
  },
  {
   "cell_type": "markdown",
   "id": "701785b3-9de6-4f39-bcd8-097151ba4fc0",
   "metadata": {},
   "source": [
    "Observe que, para todos os resolvedores, o MLP não consegue mais obter um resultado perfeito, mesmo após a convergência. Isso ocorre pois, ao reduzir a dimensionalidade, parte da informação é perdida. Observe o que ocorre se tentarmos apenas com os dados das pétalas de flores:"
   ]
  },
  {
   "cell_type": "code",
   "execution_count": 18,
   "id": "35e80435-b8ba-415c-87aa-ceb6d6ca162b",
   "metadata": {},
   "outputs": [
    {
     "data": {
      "application/vnd.jupyter.widget-view+json": {
       "model_id": "7cff84c48f9e4f53be0a4da468436f56",
       "version_major": 2,
       "version_minor": 0
      },
      "text/plain": [
       "interactive(children=(Dropdown(description='solver', options=('lbfgs', 'sgd', 'adam'), value='lbfgs'), IntSlid…"
      ]
     },
     "execution_count": 18,
     "metadata": {},
     "output_type": "execute_result"
    }
   ],
   "source": [
    "interactive(\n",
    "    new_mlp,\n",
    "    X_train=fixed(X_train[['petal_length', 'petal_width']]),\n",
    "    y_train=fixed(y_train),\n",
    "    X_test=fixed(X_test[['petal_length', 'petal_width']]),\n",
    "    y_test=fixed(y_test),\n",
    "    random_state=fixed(1), solver=solvers\n",
    ")"
   ]
  },
  {
   "cell_type": "markdown",
   "id": "e9a2adfe-1376-473f-bdc6-86a26281f40e",
   "metadata": {},
   "source": [
    "A diferença nos resultados é negligenciável, mesmo observando que as dimensões das pétalas deveriam ser suficientes para separar as classes. Vale observar, no entanto, que os valores finais de *score* ainda são relativamente altos. \n",
    "\n",
    "Outras topologias de MLPs provavelmente são capazes de separar as classes. Vamos aumentar o tamanho das camadas ocultas e testar novamente."
   ]
  },
  {
   "cell_type": "code",
   "execution_count": 19,
   "id": "e6c76efb-e25e-40bf-ab83-1ef107351977",
   "metadata": {},
   "outputs": [
    {
     "data": {
      "application/vnd.jupyter.widget-view+json": {
       "model_id": "8e49569c76c3402d8ad937237432e9e5",
       "version_major": 2,
       "version_minor": 0
      },
      "text/plain": [
       "interactive(children=(Dropdown(description='solver', options=('lbfgs', 'sgd', 'adam'), value='lbfgs'), IntSlid…"
      ]
     },
     "execution_count": 19,
     "metadata": {},
     "output_type": "execute_result"
    }
   ],
   "source": [
    "interactive(\n",
    "    new_mlp,\n",
    "    X_train=fixed(X_train[['petal_length', 'petal_width']]),\n",
    "    y_train=fixed(y_train),\n",
    "    X_test=fixed(X_test[['petal_length', 'petal_width']]),\n",
    "    y_test=fixed(y_test),\n",
    "    random_state=fixed(1), solver=solvers,\n",
    "    hidden_layer_sizes=hls_slider\n",
    ")"
   ]
  },
  {
   "cell_type": "markdown",
   "id": "1723b0d3-d52e-4b1c-b7ae-3e52b19befaf",
   "metadata": {},
   "source": [
    "Mesmo dobrando o tamanho da camada oculta, não foi possível aumentar o *score* do modelo. Infelizmente, o Scikit Learn não permite outras alterações na topologia do MLP, logo não há como \"compensar\" a perda de informação sofisticando a rede. Para isso, outras bibliotecas, como TensorFlow ou Keras, podem ser utilizadas em outros estudos.\n",
    "\n",
    "## Conclusões\n",
    "\n",
    "Os dados presentes no Iris são facilmente separáveis tanto pelo modelo *k*NN, para qualquer tamanho de *k*, quanto pelo MLP com *solver* LBFGS. Para os dados com dimensões reduzidas, o *k*NN ainda consegue fazer a separação, enquanto o MLP passa a ter um pequeno erro, independente do *solver* ou do tamanho da camada oculta. Ainda assim, todos os modelos testados conseguem obter bons resultados ao classificar os conjuntos do *dataset* fornecido."
   ]
  }
 ],
 "metadata": {
  "kernelspec": {
   "display_name": "Python 3 (ipykernel)",
   "language": "python",
   "name": "python3"
  },
  "language_info": {
   "codemirror_mode": {
    "name": "ipython",
    "version": 3
   },
   "file_extension": ".py",
   "mimetype": "text/x-python",
   "name": "python",
   "nbconvert_exporter": "python",
   "pygments_lexer": "ipython3",
   "version": "3.9.5"
  }
 },
 "nbformat": 4,
 "nbformat_minor": 5
}
